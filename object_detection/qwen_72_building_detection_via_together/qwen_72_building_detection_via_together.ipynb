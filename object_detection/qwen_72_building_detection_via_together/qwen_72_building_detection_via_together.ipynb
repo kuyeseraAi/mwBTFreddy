{
 "cells": [
  {
   "cell_type": "code",
   "execution_count": 18,
   "id": "eb98b3d5",
   "metadata": {},
   "outputs": [],
   "source": [
    "import os, re, json\n",
    "import base64\n",
    "from together import Together"
   ]
  },
  {
   "cell_type": "code",
   "execution_count": null,
   "id": "41bf0dc0",
   "metadata": {},
   "outputs": [],
   "source": [
    "os.environ['TOGETHER_API_KEY'] = \"xxxxxx\""
   ]
  },
  {
   "cell_type": "code",
   "execution_count": 20,
   "id": "d32c6c3c",
   "metadata": {},
   "outputs": [],
   "source": [
    "client = Together()"
   ]
  },
  {
   "cell_type": "code",
   "execution_count": 21,
   "id": "c0c97fbb",
   "metadata": {},
   "outputs": [],
   "source": [
    "def encode_image(image_path):\n",
    "        with open(image_path, \"rb\") as image_file:\n",
    "            return base64.b64encode(image_file.read()).decode('utf-8')"
   ]
  },
  {
   "cell_type": "code",
   "execution_count": 22,
   "id": "ae6515dc",
   "metadata": {},
   "outputs": [],
   "source": [
    "def extract_number_from_text(text):\n",
    "    # Find all numbers in the text\n",
    "    text = text[:500] \n",
    "    numbers = re.findall(r'\\d+', text)\n",
    "    if not numbers:\n",
    "        return None\n",
    "    # Return the first number found\n",
    "    return int(numbers[0])"
   ]
  },
  {
   "cell_type": "code",
   "execution_count": 23,
   "id": "9337c8fd",
   "metadata": {},
   "outputs": [],
   "source": [
    "def get_vlm_result(base64_image, debug=False):\n",
    "    det_prompt = \"You are a satellite imagery analyst. Look at the satellite image and count the number of distinct buildings in the picture. Do not count landscape features or vehicles, only manmade buildings such as houses or other roofed structures. Please provide only the number, not an explanation or any other text.\"\n",
    "    response = client.chat.completions.create(\n",
    "        model=\"Qwen/Qwen2-VL-72B-Instruct\",\n",
    "        messages=[\n",
    "            {\n",
    "                \"role\": \"user\",\n",
    "                \"content\": [\n",
    "                    {\"type\": \"text\", \"text\": det_prompt},\n",
    "                    {\n",
    "                        \"type\": \"image_url\",\n",
    "                        \"image_url\": {\n",
    "                            \"url\": f\"data:image/jpeg;base64,{base64_image}\"\n",
    "                        },\n",
    "                    },\n",
    "                ],\n",
    "            }\n",
    "        ],\n",
    "        stream=False,\n",
    "    )\n",
    "    if debug:\n",
    "        print(response.choices[0].message.content)\n",
    "    clean_response = extract_number_from_text(response.choices[0].message.content)\n",
    "    return clean_response"
   ]
  },
  {
   "cell_type": "code",
   "execution_count": 24,
   "id": "95902063",
   "metadata": {},
   "outputs": [
    {
     "name": "stdout",
     "output_type": "stream",
     "text": [
      "250\n",
      "153\n"
     ]
    }
   ],
   "source": [
    "run_num = '1'\n",
    "image_dir = \"sample_input/jpg_images\"\n",
    "folder_path = \"sample_output/qwen72_outputs/\"+run_num\n",
    "\n",
    "if not os.path.exists(folder_path):\n",
    "    os.makedirs(folder_path)\n",
    "\n",
    "for filename in os.listdir(image_dir)[0:2]:\n",
    "    base64_image = encode_image(image_dir+'/'+filename)\n",
    "    base_name = filename.split('.jpg')[0]\n",
    "    response = get_vlm_result(base64_image, debug=True)\n",
    "    if response:\n",
    "        with open(folder_path+'/'+base_name+'.txt', 'w') as file:\n",
    "            file.write(str(response))"
   ]
  },
  {
   "cell_type": "code",
   "execution_count": 25,
   "id": "0636894f",
   "metadata": {},
   "outputs": [],
   "source": [
    "run_num = '2'\n",
    "image_dir = \"sample_input/jpg_images\"\n",
    "folder_path = \"sample_output/qwen72_outputs/\"+run_num\n",
    "\n",
    "if not os.path.exists(folder_path):\n",
    "    os.makedirs(folder_path)\n",
    "\n",
    "for filename in os.listdir(image_dir):\n",
    "    base64_image = encode_image(image_dir+'/'+filename)\n",
    "    base_name = filename.split('.jpg')[0]\n",
    "    response = get_vlm_result(base64_image)\n",
    "    if response:\n",
    "        with open(folder_path+'/'+base_name+'.txt', 'w') as file:\n",
    "            file.write(str(response))"
   ]
  },
  {
   "cell_type": "code",
   "execution_count": 26,
   "id": "65206603-fe09-493e-bb86-c2316158e95a",
   "metadata": {},
   "outputs": [
    {
     "name": "stdout",
     "output_type": "stream",
     "text": [
      "123\n",
      "94\n",
      "125\n",
      "150\n",
      "125\n",
      "123\n"
     ]
    }
   ],
   "source": [
    "run_num = '3'\n",
    "image_dir = \"sample_input/jpg_images\"\n",
    "folder_path = \"sample_output/qwen72_outputs/\"+run_num\n",
    "\n",
    "if not os.path.exists(folder_path):\n",
    "    os.makedirs(folder_path)\n",
    "\n",
    "for filename in os.listdir(image_dir):\n",
    "    base64_image = encode_image(image_dir+'/'+filename)\n",
    "    base_name = filename.split('.jpg')[0]\n",
    "    response = get_vlm_result(base64_image, debug=True)\n",
    "    if response:\n",
    "        with open(folder_path+'/'+base_name+'.txt', 'w') as file:\n",
    "            file.write(str(response))"
   ]
  },
  {
   "cell_type": "code",
   "execution_count": null,
   "id": "fe39e2b4-d5ec-43a0-8605-5916afa7335a",
   "metadata": {},
   "outputs": [],
   "source": []
  }
 ],
 "metadata": {
  "kernelspec": {
   "display_name": "Python 3 (ipykernel)",
   "language": "python",
   "name": "python3"
  },
  "language_info": {
   "codemirror_mode": {
    "name": "ipython",
    "version": 3
   },
   "file_extension": ".py",
   "mimetype": "text/x-python",
   "name": "python",
   "nbconvert_exporter": "python",
   "pygments_lexer": "ipython3",
   "version": "3.10.16"
  }
 },
 "nbformat": 4,
 "nbformat_minor": 5
}
