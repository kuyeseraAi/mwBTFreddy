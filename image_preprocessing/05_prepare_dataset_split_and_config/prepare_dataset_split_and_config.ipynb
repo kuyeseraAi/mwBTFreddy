{
 "cells": [
  {
   "cell_type": "code",
   "execution_count": 13,
   "id": "a8f67c02",
   "metadata": {},
   "outputs": [],
   "source": [
    "import os, re, json, random, shutil, yaml"
   ]
  },
  {
   "cell_type": "code",
   "execution_count": 14,
   "id": "9a11e579",
   "metadata": {},
   "outputs": [],
   "source": [
    "def get_base_names(file_list):\n",
    "    # Extract base names using regex\n",
    "    base_names = set()\n",
    "    for filename in file_list:\n",
    "        # Look for anything before _pre_ or _post_\n",
    "        match = re.match(r'(.+?)_(?:pre|post)_', filename)\n",
    "        if match:\n",
    "            base_names.add(match.group(1))\n",
    "    return list(base_names)\n",
    "\n",
    "def split_and_move_files(source_dir, train_dir, val_dir, file_ext, base_names_train):\n",
    "    # Get all files with the specified extension\n",
    "    all_files = [f for f in os.listdir(source_dir) if f.endswith(file_ext)]\n",
    "    \n",
    "    # Move files based on their base names\n",
    "    for filename in all_files:\n",
    "        match = re.match(r'(.+?)_(?:pre|post)_', filename)\n",
    "        if match:\n",
    "            base_name = match.group(1)\n",
    "            source_path = os.path.join(source_dir, filename)\n",
    "            \n",
    "            if base_name in base_names_train:\n",
    "                dest_path = os.path.join(train_dir, filename)\n",
    "            else:\n",
    "                dest_path = os.path.join(val_dir, filename)\n",
    "                \n",
    "            shutil.copy2(source_path, dest_path)"
   ]
  },
  {
   "cell_type": "code",
   "execution_count": 15,
   "id": "7f3e19a7",
   "metadata": {},
   "outputs": [],
   "source": [
    "jpg_source_dir = \"sample_input/images\"\n",
    "txt_source_dir = \"sample_input/labels_yolo\"\n",
    "jpg_train_dir = \"sample_output/train/images\"\n",
    "jpg_val_dir = \"sample_output/valid/images\"\n",
    "txt_train_dir = \"sample_output/train/labels_yolo\"\n",
    "txt_val_dir = \"sample_output/valid/labels_yolo\"\n",
    "\n",
    "# Create output directories if they don't exist\n",
    "for dir_path in [jpg_train_dir, jpg_val_dir, txt_train_dir, txt_val_dir]:\n",
    "    os.makedirs(dir_path, exist_ok=True)"
   ]
  },
  {
   "cell_type": "code",
   "execution_count": 16,
   "id": "d2a9c1f6",
   "metadata": {},
   "outputs": [
    {
     "name": "stdout",
     "output_type": "stream",
     "text": [
      "Total base names: 13\n",
      "Training set: 10\n",
      "Validation set: 3\n"
     ]
    }
   ],
   "source": [
    "# Get all jpg files and extract base names\n",
    "jpg_files = [f for f in os.listdir(jpg_source_dir) if f.endswith('.jpg')]\n",
    "base_names = get_base_names(jpg_files)\n",
    "\n",
    "# Split base names into train/val (80/20)\n",
    "TRAIN_RATIO = 0.8\n",
    "random.seed(42)\n",
    "random.shuffle(base_names)\n",
    "split_idx = int(len(base_names) * TRAIN_RATIO)\n",
    "base_names_train = set(base_names[:split_idx])\n",
    "base_names_val = set(base_names[split_idx:])\n",
    "\n",
    "# Move jpg files\n",
    "split_and_move_files(jpg_source_dir, jpg_train_dir, jpg_val_dir, '.jpg', base_names_train)\n",
    "\n",
    "# Move txt files\n",
    "split_and_move_files(txt_source_dir, txt_train_dir, txt_val_dir, '.txt', base_names_train)\n",
    "\n",
    "# Print summary\n",
    "print(f\"Total base names: {len(base_names)}\")\n",
    "print(f\"Training set: {len(base_names_train)}\")\n",
    "print(f\"Validation set: {len(base_names_val)}\")"
   ]
  },
  {
   "cell_type": "code",
   "execution_count": 17,
   "id": "ba31172b",
   "metadata": {},
   "outputs": [
    {
     "name": "stdout",
     "output_type": "stream",
     "text": [
      "\n",
      "Generated YAML content:\n",
      "names:\n",
      "- bld\n",
      "nc: 1\n",
      "test: sample_input/cropped_jpg\n",
      "train: C:\\scripts\\image_preprocessing\\05_prepare_dataset_split_and_config\\sample_output\\train\\images\n",
      "val: C:\\scripts\\image_preprocessing\\05_prepare_dataset_split_and_config\\sample_output\\valid\\images\n",
      "\n"
     ]
    }
   ],
   "source": [
    "train_path = os.path.abspath(jpg_train_dir)\n",
    "val_path = os.path.abspath(jpg_val_dir)\n",
    "test_path = \"sample_input/cropped_jpg\"\n",
    "\n",
    "# Create yaml content\n",
    "yaml_content = {\n",
    "    'train': train_path,\n",
    "    'val': val_path,\n",
    "    'test': test_path,\n",
    "    'nc': 1,\n",
    "    'names': ['bld']\n",
    "}\n",
    "\n",
    "# Write yaml file\n",
    "with open('data.yaml', 'w') as f:\n",
    "    yaml.safe_dump(yaml_content, f, default_flow_style=False)\n",
    "\n",
    "# Print the contents to verify\n",
    "print(\"\\nGenerated YAML content:\")\n",
    "print(yaml.safe_dump(yaml_content, default_flow_style=False))"
   ]
  },
  {
   "cell_type": "code",
   "execution_count": null,
   "id": "ff8c91bb-c6a9-4ea3-8f76-1946ae925020",
   "metadata": {},
   "outputs": [],
   "source": []
  }
 ],
 "metadata": {
  "kernelspec": {
   "display_name": "Python 3 (ipykernel)",
   "language": "python",
   "name": "python3"
  },
  "language_info": {
   "codemirror_mode": {
    "name": "ipython",
    "version": 3
   },
   "file_extension": ".py",
   "mimetype": "text/x-python",
   "name": "python",
   "nbconvert_exporter": "python",
   "pygments_lexer": "ipython3",
   "version": "3.10.16"
  }
 },
 "nbformat": 4,
 "nbformat_minor": 5
}
