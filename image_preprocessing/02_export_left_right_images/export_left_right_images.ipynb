{
 "cells": [
  {
   "cell_type": "code",
   "execution_count": 21,
   "id": "e365cc4a",
   "metadata": {},
   "outputs": [],
   "source": [
    "import os, json\n",
    "from PIL import Image, ImageDraw, ImageFont"
   ]
  },
  {
   "cell_type": "code",
   "execution_count": 22,
   "id": "ca8fb64f",
   "metadata": {},
   "outputs": [],
   "source": [
    "def export_split_image(image_path, output_path_base):\n",
    "    output_path1 = output_path_base+'left.png'\n",
    "    output_path2 = output_path_base+'right.png'\n",
    "    img = Image.open(image_path).convert('RGB')\n",
    "    width = img.width\n",
    "    \n",
    "    # Find where black portion starts\n",
    "    pixels = img.load()\n",
    "    black_start = 0\n",
    "    for y in range(img.height):\n",
    "        if all(pixels[x, y] == (0,0,0) for x in range(0, width, 10)):  # Sample every 10th pixel\n",
    "            black_start = y\n",
    "            break\n",
    "    \n",
    "    img1 = img.crop((0, 0, round(width/2), black_start))\n",
    "    img1.save(output_path1)\n",
    "    \n",
    "    img2 = img.crop((round(width/2), 0, width, black_start))\n",
    "    img2.save(output_path2)\n",
    "    print(f\"Processed {output_path_base}\") "
   ]
  },
  {
   "cell_type": "code",
   "execution_count": 23,
   "id": "4bd203ab",
   "metadata": {},
   "outputs": [
    {
     "name": "stdout",
     "output_type": "stream",
     "text": [
      "Processed sample_split_image_output\\malawi-cyclone_00000034_pre_disaster-\n",
      "Processed sample_split_image_output\\malawi-cyclone_00000066_pre_disaster-\n",
      "Processed sample_split_image_output\\malawi-cyclone_00000212_pre_disaster-\n"
     ]
    }
   ],
   "source": [
    "tif_image_location = \"sample_tiff_input\"\n",
    "output_path = \"sample_split_image_output\"\n",
    "\n",
    "if not os.path.exists(output_path):\n",
    "    os.makedirs(output_path)\n",
    "\n",
    "for file in os.listdir(tif_image_location):\n",
    "    if file.endswith(\"_pre_disaster.tif\"):\n",
    "        base_name = file.replace(\".tif\", \"-\")\n",
    "        export_split_image(os.path.join(tif_image_location, file), os.path.join(output_path, base_name))"
   ]
  },
  {
   "cell_type": "code",
   "execution_count": null,
   "id": "30ea7cf4-4b26-4094-96a1-4a0c52527b32",
   "metadata": {},
   "outputs": [],
   "source": []
  }
 ],
 "metadata": {
  "kernelspec": {
   "display_name": "Python 3 (ipykernel)",
   "language": "python",
   "name": "python3"
  },
  "language_info": {
   "codemirror_mode": {
    "name": "ipython",
    "version": 3
   },
   "file_extension": ".py",
   "mimetype": "text/x-python",
   "name": "python",
   "nbconvert_exporter": "python",
   "pygments_lexer": "ipython3",
   "version": "3.10.16"
  }
 },
 "nbformat": 4,
 "nbformat_minor": 5
}
